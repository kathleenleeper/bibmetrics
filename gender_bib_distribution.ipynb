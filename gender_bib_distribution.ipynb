{
 "metadata": {
  "name": "",
  "signature": "sha256:a4dfe9c48046a616dc6eb077d636fc99521966355c1a2af0298121dd123b3b56"
 },
 "nbformat": 3,
 "nbformat_minor": 0,
 "worksheets": [
  {
   "cells": [
    {
     "cell_type": "code",
     "collapsed": false,
     "input": [
      "from __future__ import division\n",
      "\n",
      "\"\"\"gendering\"\"\"\n",
      "from genderComputer.genderComputer import GenderComputer \n",
      "\n",
      "\"\"\"bibtex parsing\"\"\"\n",
      "import os\n",
      "import bibtexparser as b #module for bibtex parsing, obviously\n",
      "from bibtexparser.bparser import BibTexParser #add customization\n",
      "from bibtexparser.customization import *\n",
      "\n",
      "\"\"\"plotting functions\"\"\"\n",
      "import matplotlib.pyplot as plt; plt.rcdefaults()\n",
      "import numpy as np\n",
      "import matplotlib.pyplot as plt\n",
      "\n",
      "\"\"\"date time functions \"\"\"\n",
      "from datetime import datetime #system date\n",
      "\n",
      "\"\"\"csv\"\"\"\n",
      "import csv\n",
      "\n",
      "\"\"\"API call to crossref!\"\"\"\n",
      "\n",
      "import requests\n",
      "import json"
     ],
     "language": "python",
     "metadata": {},
     "outputs": [],
     "prompt_number": 1
    },
    {
     "cell_type": "code",
     "collapsed": false,
     "input": [
      "def customizations(record):\n",
      "    \"\"\"Use some functions delivered by the library\n",
      "    :param record: a record\n",
      "    :returns: -- customized record\n",
      "    \"\"\"\n",
      "    record = type(record)\n",
      "    record = doi(record)\n",
      "    record = convert_to_unicode(record)\n",
      "    record = author(record)\n",
      "    return record"
     ],
     "language": "python",
     "metadata": {},
     "outputs": [],
     "prompt_number": 2
    },
    {
     "cell_type": "code",
     "collapsed": false,
     "input": [
      "def parseFile(bib_file):\n",
      "    \"\"\"parse the bib file\n",
      "    \n",
      "    :param bib_file: bibtex file to be parsed\n",
      "    :returns: -- a bibtex file object\n",
      "    \"\"\"\n",
      "    with open(bib_file) as bibtex_file: \n",
      "        parser = BibTexParser()\n",
      "        parser.homogenize = True        \n",
      "        parser.customization = customizations\n",
      "        data = b.load(bibtex_file, parser = parser)\n",
      "        return data\n",
      "    \n",
      "def clean_tex(s): #tex files are super gross\n",
      "    badSubstrings = [\"{\",\"}\"]\n",
      "    for badSubstring in badSubstrings:\n",
      "        s = s.replace(badSubstring, \"\")\n",
      "    return s"
     ],
     "language": "python",
     "metadata": {},
     "outputs": [],
     "prompt_number": 3
    },
    {
     "cell_type": "code",
     "collapsed": false,
     "input": [
      "\"\"\"set variables\"\"\"\n",
      "\n",
      "today = datetime.today()\n",
      "gc = GenderComputer(os.path.abspath('genderComputer/nameLists')) #make gendercomputer\n",
      "\n",
      "auCount = 0\n",
      "notav = 0\n",
      "uni = 0\n",
      "men = 0\n",
      "women = 0\n",
      "unavailable = []\n",
      "\n",
      "bib = 'test-bib.bib' #bibtex file of choice; should modify for user-defined bib omg or write as a function, duh\n",
      "data = parseFile(bib) #should be done in function, again, C'MON"
     ],
     "language": "python",
     "metadata": {},
     "outputs": [
      {
       "output_type": "stream",
       "stream": "stdout",
       "text": [
        "Loaded dictionary from /home/feline/Documents/repositories/bibmetrics/genderComputer/nameLists/gender.dict\n",
        "Finished initialization"
       ]
      },
      {
       "output_type": "stream",
       "stream": "stdout",
       "text": [
        "\n"
       ]
      }
     ],
     "prompt_number": 4
    },
    {
     "cell_type": "code",
     "collapsed": false,
     "input": [
      "def retrieveAffiliation(paper_doi):\n",
      "    crossref_api = \"http://api.crossref.org/works/\"\n",
      "    isindexed = requests.get((crossref_api  + paper_doi + \"/agency\")) #check whether it's in the crossref database -- if not, check other databases w/ same variable\n",
      "    if isindexed.status_code == 200:   #hasAffil = requests.get((crossref_api + \"?filter=has-affiliation:true,doi:\" + paper_doi)) #does crossref have its affiliations?, #if hasAffil.status_code == 200: #it does!\n",
      "        resp = requests.get((crossref_api + paper_doi)) #request the full record\n",
      "        r = resp.json()\n",
      "        print r['message']['author'] #throws an error if no author key found! D:\n"
     ],
     "language": "python",
     "metadata": {},
     "outputs": [],
     "prompt_number": 29
    },
    {
     "cell_type": "code",
     "collapsed": false,
     "input": [
      "for entry in data.entries:\n",
      "    crossref_api = \"http://api.crossref.org/works\"\n",
      "    if \"doi\" in entry:\n",
      "        paper_doi = entry[\"doi\"]\n",
      "        retrieveAffiliation(paper_doi)"
     ],
     "language": "python",
     "metadata": {},
     "outputs": [
      {
       "output_type": "stream",
       "stream": "stdout",
       "text": [
        "[{u'affiliation': [], u'given': u'Morgan G. I.', u'family': u'Langille'}, {u'affiliation': [], u'given': u'Jonathan A.', u'family': u'Eisen'}]\n",
        "[{u'affiliation': [], u'given': u'Susanne', u'family': u'Knudsen'}]"
       ]
      },
      {
       "output_type": "stream",
       "stream": "stdout",
       "text": [
        "\n",
        "[{u'affiliation': [], u'given': u'Suman', u'family': u'Seth'}]"
       ]
      },
      {
       "output_type": "stream",
       "stream": "stdout",
       "text": [
        "\n",
        "[{u'affiliation': [], u'given': u'M. H.', u'family': u'Cragin'}, {u'affiliation': [], u'given': u'C. L.', u'family': u'Palmer'}, {u'affiliation': [], u'given': u'J. R.', u'family': u'Carlson'}, {u'affiliation': [], u'given': u'M.', u'family': u'Witt'}]"
       ]
      },
      {
       "output_type": "stream",
       "stream": "stdout",
       "text": [
        "\n",
        "[{u'affiliation': [], u'given': u'A.', u'family': u'Halfaker'}, {u'affiliation': [], u'given': u'R. S.', u'family': u'Geiger'}, {u'affiliation': [], u'given': u'J. T.', u'family': u'Morgan'}, {u'affiliation': [], u'given': u'J.', u'family': u'Riedl'}]"
       ]
      },
      {
       "output_type": "stream",
       "stream": "stdout",
       "text": [
        "\n",
        "[{u'affiliation': [], u'given': u'D.', u'family': u'Nafus'}]"
       ]
      },
      {
       "output_type": "stream",
       "stream": "stdout",
       "text": [
        "\n",
        "[{u'affiliation': [], u'given': u'Francisco', u'family': u'Ortega'}]"
       ]
      },
      {
       "output_type": "stream",
       "stream": "stdout",
       "text": [
        "\n",
        "[{u'affiliation': [], u'given': u'Anne', u'family': u'Fausto-Sterling'}]"
       ]
      },
      {
       "output_type": "stream",
       "stream": "stdout",
       "text": [
        "\n",
        "[{u'affiliation': [], u'given': u'Suparna', u'family': u'Choudhury'}, {u'affiliation': [], u'given': u'Jennifer R.', u'family': u'Fishman'}, {u'affiliation': [], u'given': u'Michelle L.', u'family': u'McGowan'}, {u'affiliation': [], u'given': u'Eric T.', u'family': u'Juengst'}]"
       ]
      },
      {
       "output_type": "stream",
       "stream": "stdout",
       "text": [
        "\n",
        "[{u'affiliation': [], u'given': u'Lundy', u'family': u'Braun'}, {u'affiliation': [], u'given': u'Anne', u'family': u'Fausto-Sterling'}, {u'affiliation': [], u'given': u'Duana', u'family': u'Fullwiley'}, {u'affiliation': [], u'given': u'Evelynn M', u'family': u'Hammonds'}, {u'affiliation': [], u'given': u'Alondra', u'family': u'Nelson'}, {u'affiliation': [], u'given': u'William', u'family': u'Quivers'}, {u'affiliation': [], u'given': u'Susan M', u'family': u'Reverby'}, {u'affiliation': [], u'given': u'Alexandra E', u'family': u'Shields'}]"
       ]
      },
      {
       "output_type": "stream",
       "stream": "stdout",
       "text": [
        "\n",
        "[{u'affiliation': [], u'given': u'Linda', u'family': u'Gannon'}]"
       ]
      },
      {
       "output_type": "stream",
       "stream": "stdout",
       "text": [
        "\n",
        "[{u'affiliation': [], u'given': u'Katherine S.', u'family': u'Button'}, {u'affiliation': [], u'given': u'John P. A.', u'family': u'Ioannidis'}, {u'affiliation': [], u'given': u'Claire', u'family': u'Mokrysz'}, {u'affiliation': [], u'given': u'Brian A.', u'family': u'Nosek'}, {u'affiliation': [], u'given': u'Jonathan', u'family': u'Flint'}, {u'affiliation': [], u'given': u'Emma S. J.', u'family': u'Robinson'}, {u'affiliation': [], u'given': u'Marcus R.', u'family': u'Munaf\\xf2'}]"
       ]
      },
      {
       "output_type": "stream",
       "stream": "stdout",
       "text": [
        "\n",
        "[{u'affiliation': [], u'given': u'E.-J.', u'family': u'Wagenmakers'}, {u'affiliation': [], u'given': u'R.', u'family': u'Wetzels'}, {u'affiliation': [], u'given': u'D.', u'family': u'Borsboom'}, {u'affiliation': [], u'given': u'H. L. J.', u'family': u'van der Maas'}, {u'affiliation': [], u'given': u'R. A.', u'family': u'Kievit'}]"
       ]
      },
      {
       "output_type": "stream",
       "stream": "stdout",
       "text": [
        "\n",
        "[{u'affiliation': [], u'given': u'Babette E.', u'family': u'Babich'}]"
       ]
      },
      {
       "output_type": "stream",
       "stream": "stdout",
       "text": [
        "\n",
        "[{u'affiliation': [], u'given': u'Joshua', u'family': u'Carp'}]"
       ]
      },
      {
       "output_type": "stream",
       "stream": "stdout",
       "text": [
        "\n",
        "[{u'affiliation': [], u'given': u'Karen H.', u'family': u'Adams'}, {u'affiliation': [], u'given': u'Elsebeth S.', u'family': u'Hansen'}, {u'affiliation': [], u'given': u'Lars H.', u'family': u'Pinborg'}, {u'affiliation': [], u'given': u'Steen G.', u'family': u'Hasselbalch'}, {u'affiliation': [], u'given': u'Claus', u'family': u'Svarer'}, {u'affiliation': [], u'given': u'S\\xf8ren', u'family': u'Holm'}, {u'affiliation': [], u'given': u'Tom G.', u'family': u'Bolwig'}, {u'affiliation': [], u'given': u'Gitte M.', u'family': u'Knudsen'}]"
       ]
      },
      {
       "output_type": "stream",
       "stream": "stdout",
       "text": [
        "\n",
        "[{u'affiliation': [], u'given': u'Warwick', u'family': u'Anderson'}]"
       ]
      },
      {
       "output_type": "stream",
       "stream": "stdout",
       "text": [
        "\n",
        "[{u'affiliation': [], u'given': u'Sandra', u'family': u'Harding'}]"
       ]
      },
      {
       "output_type": "stream",
       "stream": "stdout",
       "text": [
        "\n",
        "[{u'affiliation': [], u'given': u'Peder Olesen', u'family': u'Larsen'}, {u'affiliation': [], u'given': u'Markus', u'family': u'von Ins'}]"
       ]
      },
      {
       "output_type": "stream",
       "stream": "stdout",
       "text": [
        "\n",
        "[{u'affiliation': [], u'given': u'Vincent', u'family': u'Larivi\\xe8re'}, {u'affiliation': [], u'given': u'Chaoqun', u'family': u'Ni'}, {u'affiliation': [], u'given': u'Yves', u'family': u'Gingras'}, {u'affiliation': [], u'given': u'Blaise', u'family': u'Cronin'}, {u'affiliation': [], u'given': u'Cassidy R.', u'family': u'Sugimoto'}]"
       ]
      },
      {
       "output_type": "stream",
       "stream": "stdout",
       "text": [
        "\n",
        "[{u'affiliation': [], u'given': u'Richard', u'family': u'Van Noorden'}]"
       ]
      },
      {
       "output_type": "stream",
       "stream": "stdout",
       "text": [
        "\n",
        "[{u'affiliation': [], u'given': u'Sherine F.', u'family': u'Hamdy'}]"
       ]
      },
      {
       "output_type": "stream",
       "stream": "stdout",
       "text": [
        "\n",
        "[{u'affiliation': [], u'given': u'Jonathan W.', u'family': u'Yewdell'}]"
       ]
      },
      {
       "output_type": "stream",
       "stream": "stdout",
       "text": [
        "\n",
        "[{u'affiliation': [], u'given': u'Ziad', u'family': u'Obermeyer'}, {u'affiliation': [], u'given': u'Jesse', u'family': u'Abbott-Klafter'}, {u'affiliation': [], u'given': u'Christopher J. L.', u'family': u'Murray'}]"
       ]
      },
      {
       "output_type": "stream",
       "stream": "stdout",
       "text": [
        "\n",
        "[{u'affiliation': [], u'given': u'Andrew J', u'family': u'Vickers'}]"
       ]
      },
      {
       "output_type": "stream",
       "stream": "stdout",
       "text": [
        "\n",
        "[{u'affiliation': [], u'given': u'Sarah S.', u'family': u'Richardson'}]"
       ]
      },
      {
       "output_type": "stream",
       "stream": "stdout",
       "text": [
        "\n",
        "[{u'affiliation': [], u'given': u'Pascal', u'family': u'Borry'}, {u'affiliation': [], u'given': u'Paul', u'family': u'Schotsmans'}, {u'affiliation': [], u'given': u'Kris', u'family': u'Dierickx'}]"
       ]
      },
      {
       "output_type": "stream",
       "stream": "stdout",
       "text": [
        "\n",
        "[{u'affiliation': [], u'given': u'S. L.', u'family': u'Garland'}]"
       ]
      },
      {
       "output_type": "stream",
       "stream": "stdout",
       "text": [
        "\n"
       ]
      },
      {
       "ename": "KeyError",
       "evalue": "'author'",
       "output_type": "pyerr",
       "traceback": [
        "\u001b[1;31m---------------------------------------------------------------------------\u001b[0m\n\u001b[1;31mKeyError\u001b[0m                                  Traceback (most recent call last)",
        "\u001b[1;32m<ipython-input-30-c82aff0049f2>\u001b[0m in \u001b[0;36m<module>\u001b[1;34m()\u001b[0m\n\u001b[0;32m      3\u001b[0m     \u001b[1;32mif\u001b[0m \u001b[1;34m\"doi\"\u001b[0m \u001b[1;32min\u001b[0m \u001b[0mentry\u001b[0m\u001b[1;33m:\u001b[0m\u001b[1;33m\u001b[0m\u001b[0m\n\u001b[0;32m      4\u001b[0m         \u001b[0mpaper_doi\u001b[0m \u001b[1;33m=\u001b[0m \u001b[0mentry\u001b[0m\u001b[1;33m[\u001b[0m\u001b[1;34m\"doi\"\u001b[0m\u001b[1;33m]\u001b[0m\u001b[1;33m\u001b[0m\u001b[0m\n\u001b[1;32m----> 5\u001b[1;33m         \u001b[0mretrieveAffiliation\u001b[0m\u001b[1;33m(\u001b[0m\u001b[0mpaper_doi\u001b[0m\u001b[1;33m)\u001b[0m\u001b[1;33m\u001b[0m\u001b[0m\n\u001b[0m",
        "\u001b[1;32m<ipython-input-29-9d668783b0bc>\u001b[0m in \u001b[0;36mretrieveAffiliation\u001b[1;34m(paper_doi)\u001b[0m\n\u001b[0;32m      5\u001b[0m         \u001b[0mresp\u001b[0m \u001b[1;33m=\u001b[0m \u001b[0mrequests\u001b[0m\u001b[1;33m.\u001b[0m\u001b[0mget\u001b[0m\u001b[1;33m(\u001b[0m\u001b[1;33m(\u001b[0m\u001b[0mcrossref_api\u001b[0m \u001b[1;33m+\u001b[0m \u001b[0mpaper_doi\u001b[0m\u001b[1;33m)\u001b[0m\u001b[1;33m)\u001b[0m \u001b[1;31m#request the full record\u001b[0m\u001b[1;33m\u001b[0m\u001b[0m\n\u001b[0;32m      6\u001b[0m         \u001b[0mr\u001b[0m \u001b[1;33m=\u001b[0m \u001b[0mresp\u001b[0m\u001b[1;33m.\u001b[0m\u001b[0mjson\u001b[0m\u001b[1;33m(\u001b[0m\u001b[1;33m)\u001b[0m\u001b[1;33m\u001b[0m\u001b[0m\n\u001b[1;32m----> 7\u001b[1;33m         \u001b[1;32mprint\u001b[0m \u001b[0mr\u001b[0m\u001b[1;33m[\u001b[0m\u001b[1;34m'message'\u001b[0m\u001b[1;33m]\u001b[0m\u001b[1;33m[\u001b[0m\u001b[1;34m'author'\u001b[0m\u001b[1;33m]\u001b[0m \u001b[1;31m#else check other databases\u001b[0m\u001b[1;33m\u001b[0m\u001b[0m\n\u001b[0m",
        "\u001b[1;31mKeyError\u001b[0m: 'author'"
       ]
      }
     ],
     "prompt_number": 30
    },
    {
     "cell_type": "code",
     "collapsed": false,
     "input": [
      "def countGender(ts=True): #ts stands for troubleshooting, for papers w/ no authors\n",
      "    \"\"\"take the bib database, and count genders of authors\n",
      "    \"\"\" \n",
      "    global auCount\n",
      "    global notav \n",
      "    global uni \n",
      "    global men \n",
      "    global women \n",
      "    global unavailable \n",
      "    no_author = []\n",
      "    no_title = []\n",
      "    no_gender = []\n",
      "    for entry in data.entries:\n",
      "        if \"title\" in entry:\n",
      "            title = clean_tex(entry[\"title\"])\n",
      "        else:\n",
      "            no_title.append(entry)\n",
      "        if \"author\" in entry:\n",
      "            authors = entry[\"author\"] \n",
      "        else:\n",
      "            no_author.append(title)\n",
      "        for j in authors:\n",
      "            j = clean_tex(j)\n",
      "            auCount += 1\n",
      "            gender = gc.resolveGender(j, None) #resolve gender, yay -- assumes all names are American though;\n",
      "            if gender == 'male':\n",
      "                men += 1\n",
      "            elif gender == 'female':\n",
      "                women += 1\n",
      "            elif gender == 'unisex':\n",
      "                uni += 1\n",
      "            else:\n",
      "                notav += 1 \n",
      "                no_gender.append(j)\n",
      "    if ts==True:\n",
      "        print \"No author found in these Papers:\\n\\n\" + '\\n'.join(no_author)\n",
      "        print \"\\nNo gender on these Names:\\n\" + '\\n'.join(no_gender) #eventually so I can manually add a list of names that I know, but the social security database doesn't\n",
      "        print \"\\n\\nNo title on these entries:\\n\\n\" + '\\n'.join(no_title)  \n",
      "  "
     ],
     "language": "python",
     "metadata": {},
     "outputs": [],
     "prompt_number": 7
    },
    {
     "cell_type": "code",
     "collapsed": false,
     "input": [
      "stats = {'Women':women, 'Men':men, 'Unisex':uni, 'Not Available':notav}\n",
      "percents = {'Women':women, 'Men':men, 'Unisex':uni, 'Not Available':notav}"
     ],
     "language": "python",
     "metadata": {},
     "outputs": [],
     "prompt_number": 9
    },
    {
     "cell_type": "code",
     "collapsed": false,
     "input": [
      "for key in stats:\n",
      "    value = stats[key]\n",
      "    percent = value/auCount*100 #probably should fix so it can't break if dividing by zero\n",
      "    percents[key] = percent"
     ],
     "language": "python",
     "metadata": {},
     "outputs": [],
     "prompt_number": 10
    },
    {
     "cell_type": "code",
     "collapsed": false,
     "input": [
      "print stats\n",
      "print percents\n",
      "print auCount"
     ],
     "language": "python",
     "metadata": {},
     "outputs": [
      {
       "output_type": "stream",
       "stream": "stdout",
       "text": [
        "{'Unisex': 51, 'Not Available': 297, 'Men': 1546, 'Women': 786}\n",
        "{'Unisex': 1.9029850746268655, 'Not Available': 11.082089552238807, 'Men': 57.6865671641791, 'Women': 29.328358208955223}\n",
        "2680\n"
       ]
      }
     ],
     "prompt_number": 11
    },
    {
     "cell_type": "code",
     "collapsed": false,
     "input": [
      "plt.bar(range(len(stats)), percents.values(), align='center', color=\"#2aa198\")\n",
      "plt.xticks(range(len(percents)), percents.keys(), color=\"#657b83\")\n",
      "plt.xlabel('Genders' + '\\n' +  '(plot generated ' + 'May 14 2015' +')', color=\"#073642\")\n",
      "plt.ylabel('% of bibliography', color=\"#073642\")"
     ],
     "language": "python",
     "metadata": {},
     "outputs": [
      {
       "metadata": {},
       "output_type": "pyout",
       "prompt_number": 12,
       "text": [
        "<matplotlib.text.Text at 0x7fa8eb0e7110>"
       ]
      }
     ],
     "prompt_number": 12
    },
    {
     "cell_type": "code",
     "collapsed": false,
     "input": [
      "plt.savefig('gender_distr.png', bbox_inches='tight',transparent=True)"
     ],
     "language": "python",
     "metadata": {},
     "outputs": [],
     "prompt_number": 13
    },
    {
     "cell_type": "code",
     "collapsed": false,
     "input": [
      "plt.show()"
     ],
     "language": "python",
     "metadata": {},
     "outputs": [],
     "prompt_number": 14
    }
   ],
   "metadata": {}
  }
 ]
}
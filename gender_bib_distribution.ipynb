{
 "metadata": {
  "name": "",
  "signature": "sha256:3c79d43cf8ddc9a38d6fee49e1628e38c01ce8d519919ed34dd46b244a6cec37"
 },
 "nbformat": 3,
 "nbformat_minor": 0,
 "worksheets": [
  {
   "cells": [
    {
     "cell_type": "code",
     "collapsed": false,
     "input": [
      "from __future__ import division\n",
      "\n",
      "\"\"\"gendering\"\"\"\n",
      "from genderComputer.genderComputer import GenderComputer \n",
      "\n",
      "\"\"\"bibtex parsing\"\"\"\n",
      "import os\n",
      "import bibtexparser as b #module for bibtex parsing, obviously\n",
      "from bibtexparser.bparser import BibTexParser #add customization\n",
      "from bibtexparser.customization import *\n",
      "\n",
      "\"\"\"plotting functions\"\"\"\n",
      "import matplotlib.pyplot as plt; plt.rcdefaults()\n",
      "import numpy as np\n",
      "import matplotlib.pyplot as plt\n",
      "import seaborn as sb\n",
      "\n",
      "\"\"\"date time functions \"\"\"\n",
      "from datetime import datetime #system date\n",
      "\n",
      "\"\"\"csv\"\"\"\n",
      "import csv\n",
      "\n",
      "\"\"\"API call to crossref!\"\"\"\n",
      "\n",
      "import requests\n",
      "import json\n",
      "\n",
      "\"\"\"magic!\"\"\"\n",
      "%matplotlib inline\n",
      "sb.set()"
     ],
     "language": "python",
     "metadata": {},
     "outputs": [],
     "prompt_number": 1
    },
    {
     "cell_type": "code",
     "collapsed": false,
     "input": [
      "def customizations(record):\n",
      "    \"\"\"Use some functions delivered by the library\n",
      "    :param record: a record\n",
      "    :returns: -- customized record\n",
      "    \"\"\"\n",
      "    record = type(record)\n",
      "    record = doi(record)\n",
      "    record = convert_to_unicode(record)\n",
      "    record = author(record)\n",
      "    return record"
     ],
     "language": "python",
     "metadata": {},
     "outputs": [],
     "prompt_number": 2
    },
    {
     "cell_type": "code",
     "collapsed": false,
     "input": [
      "def parseFile(bib_file):\n",
      "    \"\"\"parse the bib file\n",
      "    \n",
      "    :param bib_file: bibtex file to be parsed\n",
      "    :returns: -- a bibtex file object\n",
      "    \"\"\"\n",
      "    with open(bib_file) as bibtex_file: \n",
      "        parser = BibTexParser()\n",
      "        parser.homogenize = True        \n",
      "        parser.customization = customizations\n",
      "        data = b.load(bibtex_file, parser = parser)\n",
      "        return data\n",
      "    \n",
      "def clean_tex(s): #tex files are super gross\n",
      "    badSubstrings = [\"{\",\"}\"]\n",
      "    for badSubstring in badSubstrings:\n",
      "        s = s.replace(badSubstring, \"\")\n",
      "    return s"
     ],
     "language": "python",
     "metadata": {},
     "outputs": [],
     "prompt_number": 3
    },
    {
     "cell_type": "code",
     "collapsed": false,
     "input": [
      "\"\"\"set variables\"\"\"\n",
      "\n",
      "today = datetime.today()\n",
      "gc = GenderComputer(os.path.abspath('genderComputer/nameLists')) #make gendercomputer\n",
      "\n",
      "auCount = 0\n",
      "notav = 0\n",
      "uni = 0\n",
      "men = 0\n",
      "women = 0\n",
      "unavailable = []\n",
      "\n",
      "bib = 'CriticalOpenNeuro.bib' #bibtex file of choice; should modify for user-defined bib omg or write as a function, duh\n",
      "data = parseFile(bib) #should be done in function, again, C'MON"
     ],
     "language": "python",
     "metadata": {},
     "outputs": [
      {
       "output_type": "stream",
       "stream": "stdout",
       "text": [
        "Loaded dictionary from /home/feline/Documents/repositories/bibmetrics/genderComputer/nameLists/gender.dict\n",
        "Finished initialization"
       ]
      },
      {
       "output_type": "stream",
       "stream": "stdout",
       "text": [
        "\n"
       ]
      }
     ],
     "prompt_number": 4
    },
    {
     "cell_type": "code",
     "collapsed": false,
     "input": [
      "\"\"\"def retrieveAffiliation(paper_doi):\n",
      "    crossref_api = \"http://api.crossref.org/works/\"\n",
      "    isindexed = requests.get((crossref_api  + paper_doi + \"/agency\")) #check whether it's in the crossref database -- if not, check other databases w/ same variable\n",
      "    if isindexed.status_code == 200:   #hasAffil = requests.get((crossref_api + \"?filter=has-affiliation:true,doi:\" + paper_doi)) #does crossref have its affiliations?, #if hasAffil.status_code == 200: #it does!\n",
      "        resp = requests.get((crossref_api + paper_doi)) #request the full record\n",
      "        r = resp.json()\n",
      "        print r['message']['author'] #throws an error if no author key found! D:\"\"\"\n"
     ],
     "language": "python",
     "metadata": {},
     "outputs": []
    },
    {
     "cell_type": "code",
     "collapsed": false,
     "input": [
      "\"\"\"for entry in data.entries:\n",
      "    crossref_api = \"http://api.crossref.org/works\"\n",
      "    if \"doi\" in entry:\n",
      "        paper_doi = entry[\"doi\"]\n",
      "        retrieveAffiliation(paper_doi)\"\"\""
     ],
     "language": "python",
     "metadata": {},
     "outputs": [
      {
       "metadata": {},
       "output_type": "pyout",
       "prompt_number": 1,
       "text": [
        "'for entry in data.entries:\\n    crossref_api = \"http://api.crossref.org/works\"\\n    if \"doi\" in entry:\\n        paper_doi = entry[\"doi\"]\\n        retrieveAffiliation(paper_doi)'"
       ]
      }
     ],
     "prompt_number": 1
    },
    {
     "cell_type": "code",
     "collapsed": false,
     "input": [
      "def countGender(data, ts=True): #ts stands for troubleshooting, for papers w/ no authors\n",
      "    \"\"\"take the bib database, and count genders of authors\n",
      "    \"\"\" \n",
      "    global auCount\n",
      "    global notav \n",
      "    global uni \n",
      "    global men \n",
      "    global women \n",
      "    global unavailable \n",
      "    no_author = []\n",
      "    no_title = []\n",
      "    no_gender = []\n",
      "    for entry in data.entries:\n",
      "        if \"title\" in entry:\n",
      "            title = clean_tex(entry[\"title\"])\n",
      "        else:\n",
      "            no_title.append(entry)\n",
      "        if \"author\" in entry:\n",
      "            authors = entry[\"author\"] \n",
      "        else:\n",
      "            no_author.append(title)\n",
      "        for j in authors:\n",
      "            j = clean_tex(j)\n",
      "            auCount += 1\n",
      "            gender = gc.resolveGender(j, None) #resolve gender, yay -- assumes all names are American though;\n",
      "            if gender == 'male':\n",
      "                men += 1\n",
      "            elif gender == 'female':\n",
      "                women += 1\n",
      "            elif gender == 'unisex':\n",
      "                uni += 1\n",
      "            else:\n",
      "                notav += 1 \n",
      "                no_gender.append(j)\n",
      "    if ts==True:\n",
      "        print \"No author found in these Papers:\\n\\n\" + '\\n'.join(no_author)\n",
      "        print \"\\nNo gender on these Names:\\n\" + '\\n'.join(no_gender) #eventually so I can manually add a list of names that I know, but the social security database doesn't\n",
      "        print \"\\n\\nNo title on these entries:\\n\\n\" + '\\n'.join(no_title)  \n",
      "  \n",
      "        "
     ],
     "language": "python",
     "metadata": {},
     "outputs": [],
     "prompt_number": 5
    },
    {
     "cell_type": "code",
     "collapsed": false,
     "input": [
      "countGender(data, ts=False)\n",
      "stats = {'Women':women, 'Men':men, 'Unisex':uni, 'Not Available':notav}\n",
      "percents = {'Women':women, 'Men':men, 'Unisex':uni, 'Not Available':notav}"
     ],
     "language": "python",
     "metadata": {},
     "outputs": [],
     "prompt_number": 7
    },
    {
     "cell_type": "code",
     "collapsed": false,
     "input": [
      "for key in stats:\n",
      "    value = stats[key]\n",
      "    percent = value/auCount*100 #probably should fix so it can't break if dividing by zero\n",
      "    percents[key] = percent"
     ],
     "language": "python",
     "metadata": {},
     "outputs": [],
     "prompt_number": 8
    },
    {
     "cell_type": "code",
     "collapsed": false,
     "input": [
      "print stats\n",
      "print percents\n",
      "print auCount"
     ],
     "language": "python",
     "metadata": {},
     "outputs": [
      {
       "output_type": "stream",
       "stream": "stdout",
       "text": [
        "{'Unisex': 51, 'Not Available': 297, 'Men': 1546, 'Women': 786}\n",
        "{'Unisex': 1.9029850746268655, 'Not Available': 11.082089552238807, 'Men': 57.6865671641791, 'Women': 29.328358208955223}\n",
        "2680\n"
       ]
      }
     ],
     "prompt_number": 9
    },
    {
     "cell_type": "code",
     "collapsed": false,
     "input": [
      "plt.bar(range(len(stats)), percents.values())\n",
      "plt.xlabel('Genders' + '\\n' +  '( generated ' + ' +')', color=\"#073642\")\n",
      "plt.ylabel('% of bibliography', color=\"#073642\")"
     ],
     "language": "python",
     "metadata": {},
     "outputs": [
      {
       "ename": "NameError",
       "evalue": "name 'date' is not defined",
       "output_type": "pyerr",
       "traceback": [
        "\u001b[1;31m---------------------------------------------------------------------------\u001b[0m\n\u001b[1;31mNameError\u001b[0m                                 Traceback (most recent call last)",
        "\u001b[1;32m<ipython-input-12-eff4551b0e10>\u001b[0m in \u001b[0;36m<module>\u001b[1;34m()\u001b[0m\n\u001b[0;32m      1\u001b[0m \u001b[0mplt\u001b[0m\u001b[1;33m.\u001b[0m\u001b[0mbar\u001b[0m\u001b[1;33m(\u001b[0m\u001b[0mrange\u001b[0m\u001b[1;33m(\u001b[0m\u001b[0mlen\u001b[0m\u001b[1;33m(\u001b[0m\u001b[0mstats\u001b[0m\u001b[1;33m)\u001b[0m\u001b[1;33m)\u001b[0m\u001b[1;33m,\u001b[0m \u001b[0mpercents\u001b[0m\u001b[1;33m.\u001b[0m\u001b[0mvalues\u001b[0m\u001b[1;33m(\u001b[0m\u001b[1;33m)\u001b[0m\u001b[1;33m)\u001b[0m\u001b[1;33m\u001b[0m\u001b[0m\n\u001b[1;32m----> 2\u001b[1;33m \u001b[0mplt\u001b[0m\u001b[1;33m.\u001b[0m\u001b[0mxlabel\u001b[0m\u001b[1;33m(\u001b[0m\u001b[1;34m'Genders'\u001b[0m \u001b[1;33m+\u001b[0m \u001b[1;34m'\\n'\u001b[0m \u001b[1;33m+\u001b[0m  \u001b[1;34m'( generated '\u001b[0m \u001b[1;33m+\u001b[0m \u001b[0mdate\u001b[0m \u001b[1;33m+\u001b[0m\u001b[1;34m')'\u001b[0m\u001b[1;33m,\u001b[0m \u001b[0mcolor\u001b[0m\u001b[1;33m=\u001b[0m\u001b[1;34m\"#073642\"\u001b[0m\u001b[1;33m)\u001b[0m\u001b[1;33m\u001b[0m\u001b[0m\n\u001b[0m\u001b[0;32m      3\u001b[0m \u001b[0mplt\u001b[0m\u001b[1;33m.\u001b[0m\u001b[0mylabel\u001b[0m\u001b[1;33m(\u001b[0m\u001b[1;34m'% of bibliography'\u001b[0m\u001b[1;33m,\u001b[0m \u001b[0mcolor\u001b[0m\u001b[1;33m=\u001b[0m\u001b[1;34m\"#073642\"\u001b[0m\u001b[1;33m)\u001b[0m\u001b[1;33m\u001b[0m\u001b[0m\n",
        "\u001b[1;31mNameError\u001b[0m: name 'date' is not defined"
       ]
      },
      {
       "metadata": {},
       "output_type": "display_data",
       "png": "[encoded data removed]",
       "text": [
        "<matplotlib.figure.Figure at 0x7eff1f96c1d0>"
       ]
      }
     ],
     "prompt_number": 12
    },
    {
     "cell_type": "code",
     "collapsed": false,
     "input": [
      "plt.savefig('gender_distr.png', bbox_inches='tight',transparent=True)"
     ],
     "language": "python",
     "metadata": {},
     "outputs": [],
     "prompt_number": 13
    },
    {
     "cell_type": "code",
     "collapsed": false,
     "input": [
      "plt.show()"
     ],
     "language": "python",
     "metadata": {},
     "outputs": [],
     "prompt_number": 14
    }
   ],
   "metadata": {}
  }
 ]
}